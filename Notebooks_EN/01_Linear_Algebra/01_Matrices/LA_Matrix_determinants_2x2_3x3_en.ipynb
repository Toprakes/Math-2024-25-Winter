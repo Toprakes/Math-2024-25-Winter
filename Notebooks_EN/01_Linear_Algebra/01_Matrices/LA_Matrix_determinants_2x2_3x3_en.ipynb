{
  "cells": [
    {
      "cell_type": "markdown",
      "metadata": {
        "id": "VCTa-oBf9EEX"
      },
      "source": [
        "# Determinants of 2x2 and 3x3 matrices\n",
        "\n",
        "### Determinant of a 2x2 Matrix\n",
        "\n",
        "The general formula for the determinant of a 2x2 matrix, where the matrix looks as follows:\n",
        "\n",
        "$$\n",
        "\\mathbf{A} =\n",
        "\\begin{pmatrix}\n",
        "a_{11} & a_{12} \\\\\n",
        "a_{21} & a_{22}\n",
        "\\end{pmatrix}\n",
        "$$\n",
        "\n",
        "The determinant of a 2x2 matrix is calculated using the formula:\n",
        "\n",
        "$$\n",
        "\\text{det}(A) = a_{11} \\cdot a_{22} - a_{12} \\cdot a_{21}\n",
        "$$\n",
        "\n",
        "### Determinant of a 3x3 Matrix\n",
        "\n",
        "The general formula for the determinant of a 3x3 matrix, where the matrix looks as follows:\n",
        "\n",
        "$$\n",
        "\\mathbf{B} =\n",
        "\\begin{pmatrix}\n",
        "a_{11} & a_{12} & a_{13} \\\\\n",
        "a_{21} & a_{22} & a_{23} \\\\\n",
        "a_{31} & a_{32} & a_{33}\n",
        "\\end{pmatrix}\n",
        "$$\n",
        "\n",
        "The determinant of a 3x3 matrix can be calculated using Sarrus' rule or Laplace expansion. Here, we will use Sarrus' rule:\n",
        "\n",
        "$$\n",
        "\\text{det}(B) = a_{11} \\cdot a_{22} \\cdot a_{33} + a_{12} \\cdot a_{23} \\cdot a_{31} + a_{13} \\cdot a_{21} \\cdot a_{32}\n",
        "- a_{13} \\cdot a_{22} \\cdot a_{31} - a_{12} \\cdot a_{21} \\cdot a_{33} - a_{11} \\cdot a_{23} \\cdot a_{32}\n",
        "$$\n",
        "\n",
        "<img src=\"https://upload.wikimedia.org/wikipedia/commons/c/c0/Sarrus_rule1.svg\" alt=\"Image description\" width=\"300\" align=\"center\"/>\n",
        "\n",
        "Note: Sarrus' rule does not work for matrices larger than 3x3.\n",
        "\n",
        "### Calculating Determinants in Python using SymPy\n",
        "\n",
        "Now, using the SymPy library, we will calculate the determinants for 2x2 and 3x3 matrices."
      ]
    },
    {
      "cell_type": "code",
      "execution_count": null,
      "metadata": {
        "id": "Z4ZXeX9g9EEY",
        "outputId": "710c456b-e8d5-454d-b20d-89c5b0ae92d7"
      },
      "outputs": [
        {
          "data": {
            "text/latex": [
              "$\\displaystyle \\left[\\begin{matrix}2 & 3\\\\1 & 4\\end{matrix}\\right]$"
            ],
            "text/plain": [
              "Matrix([\n",
              "[2, 3],\n",
              "[1, 4]])"
            ]
          },
          "execution_count": 1,
          "metadata": {},
          "output_type": "execute_result"
        }
      ],
      "source": [
        "import sympy as sp\n",
        "\n",
        "# Define the matrix\n",
        "A = sp.Matrix([[2, 3], [1, 4]])\n",
        "A # display the matrix"
      ]
    },
    {
      "cell_type": "code",
      "execution_count": null,
      "metadata": {
        "notebookRunGroups": {
          "groupValue": "2"
        },
        "id": "RYJ_pnvR9EEZ",
        "outputId": "2f554cd3-dcb4-4bd6-f99a-f8e974f5f004"
      },
      "outputs": [
        {
          "data": {
            "text/plain": [
              "True"
            ]
          },
          "execution_count": 2,
          "metadata": {},
          "output_type": "execute_result"
        }
      ],
      "source": [
        "# Verify the correctness of the calculations\n",
        "(2*4 - 3*1) == A.det()"
      ]
    },
    {
      "cell_type": "code",
      "execution_count": null,
      "metadata": {
        "id": "RnZXHXdD9EEa",
        "outputId": "4a3cb4b3-99d4-42c0-ed68-dab8041b8ddb"
      },
      "outputs": [
        {
          "data": {
            "text/latex": [
              "$\\displaystyle \\left[\\begin{matrix}2 & 3 & 1\\\\1 & 4 & 5\\\\3 & 2 & 1\\end{matrix}\\right]$"
            ],
            "text/plain": [
              "Matrix([\n",
              "[2, 3, 1],\n",
              "[1, 4, 5],\n",
              "[3, 2, 1]])"
            ]
          },
          "execution_count": 3,
          "metadata": {},
          "output_type": "execute_result"
        }
      ],
      "source": [
        "# 3x3 Matrix\n",
        "B = sp.Matrix([[2, 3, 1], [1, 4, 5], [3, 2, 1]])\n",
        "B"
      ]
    },
    {
      "cell_type": "code",
      "execution_count": null,
      "metadata": {
        "id": "5veByq4q9EEa",
        "outputId": "7a6f97e9-4796-4040-883b-b9f5fe33e560"
      },
      "outputs": [
        {
          "data": {
            "text/plain": [
              "True"
            ]
          },
          "execution_count": 4,
          "metadata": {},
          "output_type": "execute_result"
        }
      ],
      "source": [
        "# Verify the correctness of the calculations\n",
        "(2*4*1 + 3*5*3 + 1*1*2 - 1*4*3 - 5*2*2 - 3*1*1) == B.det()"
      ]
    },
    {
      "cell_type": "markdown",
      "metadata": {
        "id": "DMaQyCfg9EEa"
      },
      "source": [
        "---\n",
        "\n",
        "## Exercises for Students\n",
        "\n",
        "Calculate the determinants for the 2x2 and 3x3 matrices given below.\n",
        "\n",
        "1. 2x2 Matrices:\n",
        "\n",
        "$$\n",
        "\\mathbf{A} =\n",
        "\\begin{pmatrix}\n",
        "2 & 3 \\\\\n",
        "1 & 4\n",
        "\\end{pmatrix}\n",
        ", \\qquad\n",
        "\\mathbf{B} =\n",
        "\\begin{pmatrix}\n",
        "5 & 6 \\\\\n",
        "7 & 8\n",
        "\\end{pmatrix}\n",
        ", \\qquad\n",
        "\\mathbf{C} =\n",
        "\\begin{pmatrix}\n",
        "-1 & 2 \\\\\n",
        "3 & 0\n",
        "\\end{pmatrix}\n",
        "$$\n",
        "\n",
        "2. 3x3 Matrices:\n",
        "\n",
        "\n",
        "$$\n",
        "\\mathbf{D} =\n",
        "\\begin{pmatrix}\n",
        "1 & 0 & 2 \\\\\n",
        "-1 & 3 & 1 \\\\\n",
        "2 & 4 & -2\n",
        "\\end{pmatrix}\n",
        ", \\qquad\n",
        "\\mathbf{E} =\n",
        "\\begin{pmatrix}\n",
        "3 & 1 & -1 \\\\\n",
        "0 & 2 & 4 \\\\\n",
        "5 & 3 & 2\n",
        "\\end{pmatrix}\n",
        ", \\qquad\n",
        "\\mathbf{F} =\n",
        "\\begin{pmatrix}\n",
        "2 & -3 & 1 \\\\\n",
        "1 & 4 & -2 \\\\\n",
        "1 & 5 & 3\n",
        "\\end{pmatrix}\n",
        "$$"
      ]
    },
    {
      "cell_type": "code",
      "source": [
        "import sympy as sp\n",
        "\n",
        "# Define the matrix\n",
        "A = sp.Matrix([[2, 3], [1, 4]])\n",
        "A # display the matrix"
      ],
      "metadata": {
        "colab": {
          "base_uri": "https://localhost:8080/",
          "height": 58
        },
        "id": "bi7kh6YV-8OM",
        "outputId": "682bbc27-0938-4b55-e4d6-23f850b6058b"
      },
      "execution_count": 1,
      "outputs": [
        {
          "output_type": "execute_result",
          "data": {
            "text/plain": [
              "Matrix([\n",
              "[2, 3],\n",
              "[1, 4]])"
            ],
            "text/latex": "$\\displaystyle \\left[\\begin{matrix}2 & 3\\\\1 & 4\\end{matrix}\\right]$"
          },
          "metadata": {},
          "execution_count": 1
        }
      ]
    },
    {
      "cell_type": "code",
      "source": [
        "# Verify the correcnetss of the calculations\n",
        "(2*4 - 3*1) == A.det()"
      ],
      "metadata": {
        "colab": {
          "base_uri": "https://localhost:8080/"
        },
        "id": "fwE2A3Uj_WFc",
        "outputId": "198ad9cc-1ce0-4b68-fd34-648703144a3a"
      },
      "execution_count": 2,
      "outputs": [
        {
          "output_type": "execute_result",
          "data": {
            "text/plain": [
              "True"
            ]
          },
          "metadata": {},
          "execution_count": 2
        }
      ]
    },
    {
      "cell_type": "code",
      "source": [
        "# 2x2 matrix\n",
        "B = sp.Matrix([[5, 6], [7, 8]])\n",
        "B"
      ],
      "metadata": {
        "colab": {
          "base_uri": "https://localhost:8080/",
          "height": 58
        },
        "id": "2qQKpy_a_1bH",
        "outputId": "008022f0-b3c7-49dd-edcf-a0cbfe7d80b4"
      },
      "execution_count": 3,
      "outputs": [
        {
          "output_type": "execute_result",
          "data": {
            "text/plain": [
              "Matrix([\n",
              "[5, 6],\n",
              "[7, 8]])"
            ],
            "text/latex": "$\\displaystyle \\left[\\begin{matrix}5 & 6\\\\7 & 8\\end{matrix}\\right]$"
          },
          "metadata": {},
          "execution_count": 3
        }
      ]
    },
    {
      "cell_type": "code",
      "source": [
        "# Verify the correctness of the calculations\n",
        "(5*8 - 6*7) == B.det()"
      ],
      "metadata": {
        "colab": {
          "base_uri": "https://localhost:8080/"
        },
        "id": "qlhZZutHAYb3",
        "outputId": "45218136-4b35-414f-9bb7-8f217d17375b"
      },
      "execution_count": 4,
      "outputs": [
        {
          "output_type": "execute_result",
          "data": {
            "text/plain": [
              "True"
            ]
          },
          "metadata": {},
          "execution_count": 4
        }
      ]
    },
    {
      "cell_type": "code",
      "source": [
        "# 2x2 Matrix\n",
        "C = sp.Matrix([[-1, 2], [3, 0]])\n",
        "C"
      ],
      "metadata": {
        "colab": {
          "base_uri": "https://localhost:8080/",
          "height": 58
        },
        "id": "TbA8sCDBA6VU",
        "outputId": "b7b9a887-fb2c-4b61-c259-8b0d7e4f9f4e"
      },
      "execution_count": 5,
      "outputs": [
        {
          "output_type": "execute_result",
          "data": {
            "text/plain": [
              "Matrix([\n",
              "[-1, 2],\n",
              "[ 3, 0]])"
            ],
            "text/latex": "$\\displaystyle \\left[\\begin{matrix}-1 & 2\\\\3 & 0\\end{matrix}\\right]$"
          },
          "metadata": {},
          "execution_count": 5
        }
      ]
    },
    {
      "cell_type": "code",
      "source": [
        "# Verify the correctness of the calculations\n",
        "(-1*0 - 2*3) == C.det()"
      ],
      "metadata": {
        "colab": {
          "base_uri": "https://localhost:8080/"
        },
        "id": "AxFMJ3SGBFgV",
        "outputId": "cf7d6182-8723-442e-8a89-e60a0278fd29"
      },
      "execution_count": 6,
      "outputs": [
        {
          "output_type": "execute_result",
          "data": {
            "text/plain": [
              "True"
            ]
          },
          "metadata": {},
          "execution_count": 6
        }
      ]
    },
    {
      "cell_type": "code",
      "source": [
        "# 3x3 Matrix\n",
        "D = sp.Matrix([[1, 0, 2], [-1, 3, 1], [2, 4, -2]])\n",
        "D"
      ],
      "metadata": {
        "colab": {
          "base_uri": "https://localhost:8080/",
          "height": 78
        },
        "id": "3QoPJwoSHd1m",
        "outputId": "7d41e940-7931-4795-b320-e83145b8f400"
      },
      "execution_count": 22,
      "outputs": [
        {
          "output_type": "execute_result",
          "data": {
            "text/plain": [
              "Matrix([\n",
              "[ 1, 0,  2],\n",
              "[-1, 3,  1],\n",
              "[ 2, 4, -2]])"
            ],
            "text/latex": "$\\displaystyle \\left[\\begin{matrix}1 & 0 & 2\\\\-1 & 3 & 1\\\\2 & 4 & -2\\end{matrix}\\right]$"
          },
          "metadata": {},
          "execution_count": 22
        }
      ]
    },
    {
      "cell_type": "code",
      "source": [
        "# Verify the correctness of the calculations\n",
        "(1*3*-2 + 0*1*2 + 2*4*-1 - 2*3*2 - 1*4*1 - 0*0) == D.det()"
      ],
      "metadata": {
        "colab": {
          "base_uri": "https://localhost:8080/"
        },
        "id": "CYmu-_PZHoZH",
        "outputId": "6b724103-ad3e-4142-9348-2ebdf6a04cac"
      },
      "execution_count": 23,
      "outputs": [
        {
          "output_type": "execute_result",
          "data": {
            "text/plain": [
              "True"
            ]
          },
          "metadata": {},
          "execution_count": 23
        }
      ]
    },
    {
      "cell_type": "code",
      "source": [
        "# 3x3 Matrix\n",
        "E = sp.Matrix([[3, 1, -1], [0, 2, 4], [5, 3, 2]])\n",
        "E"
      ],
      "metadata": {
        "colab": {
          "base_uri": "https://localhost:8080/",
          "height": 78
        },
        "id": "BFzWu4_PIDDR",
        "outputId": "2535b2f0-2ca5-4361-bda5-508211de3fa9"
      },
      "execution_count": 24,
      "outputs": [
        {
          "output_type": "execute_result",
          "data": {
            "text/plain": [
              "Matrix([\n",
              "[3, 1, -1],\n",
              "[0, 2,  4],\n",
              "[5, 3,  2]])"
            ],
            "text/latex": "$\\displaystyle \\left[\\begin{matrix}3 & 1 & -1\\\\0 & 2 & 4\\\\5 & 3 & 2\\end{matrix}\\right]$"
          },
          "metadata": {},
          "execution_count": 24
        }
      ]
    },
    {
      "cell_type": "code",
      "source": [
        "# Verify the correctness of the calculations\n",
        "(3*2*2) + (1*4*5) + ((-1)*0*3) - (5*2*-1) - (3*4*3) - (2*0*1) == E.det()"
      ],
      "metadata": {
        "colab": {
          "base_uri": "https://localhost:8080/"
        },
        "id": "TJ1R8HNWIPc3",
        "outputId": "2e66bc44-f0f5-471c-e706-c6fd671d772c"
      },
      "execution_count": 27,
      "outputs": [
        {
          "output_type": "execute_result",
          "data": {
            "text/plain": [
              "True"
            ]
          },
          "metadata": {},
          "execution_count": 27
        }
      ]
    },
    {
      "cell_type": "code",
      "source": [
        "# 3x3 Matrix\n",
        "F = sp.Matrix([[2, -3, 1], [1, 4, -2], [1, 5, 3]])\n",
        "F"
      ],
      "metadata": {
        "colab": {
          "base_uri": "https://localhost:8080/",
          "height": 78
        },
        "id": "iSbmCiROKn5A",
        "outputId": "f379a07b-b413-47bf-e949-8a01423b08c3"
      },
      "execution_count": 28,
      "outputs": [
        {
          "output_type": "execute_result",
          "data": {
            "text/plain": [
              "Matrix([\n",
              "[2, -3,  1],\n",
              "[1,  4, -2],\n",
              "[1,  5,  3]])"
            ],
            "text/latex": "$\\displaystyle \\left[\\begin{matrix}2 & -3 & 1\\\\1 & 4 & -2\\\\1 & 5 & 3\\end{matrix}\\right]$"
          },
          "metadata": {},
          "execution_count": 28
        }
      ]
    },
    {
      "cell_type": "code",
      "source": [
        "# Verify the correctness of the calculations\n",
        "(2*4*3) + ((-3)*(-2)*1) + (1*1*5) - (1*4*1) - (5*(-2)*2) - (3*1*(-3)) == F.det()"
      ],
      "metadata": {
        "colab": {
          "base_uri": "https://localhost:8080/"
        },
        "id": "BDZiBhb7Lc5w",
        "outputId": "95bbc069-a7c2-4f3f-d779-6775d09fff37"
      },
      "execution_count": 30,
      "outputs": [
        {
          "output_type": "execute_result",
          "data": {
            "text/plain": [
              "True"
            ]
          },
          "metadata": {},
          "execution_count": 30
        }
      ]
    }
  ],
  "metadata": {
    "kernelspec": {
      "display_name": "Python 3",
      "language": "python",
      "name": "python3"
    },
    "language_info": {
      "codemirror_mode": {
        "name": "ipython",
        "version": 3
      },
      "file_extension": ".py",
      "mimetype": "text/x-python",
      "name": "python",
      "nbconvert_exporter": "python",
      "pygments_lexer": "ipython3",
      "version": "3.11.9"
    },
    "colab": {
      "provenance": []
    }
  },
  "nbformat": 4,
  "nbformat_minor": 0
}